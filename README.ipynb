{
 "cells": [
  {
   "cell_type": "markdown",
   "metadata": {},
   "source": [
    "# C++框架下的JUCE音频插件开发：从制作一个简单Filter开始\n",
    "![]()\n",
    "## 准备工作：\n",
    "- 准备好IDE，VS或者Xcode都行，，这里用VisualStudio2022  \n",
    "- 配置好C++的编译环境，这里用MSVC\n",
    "- 准备好JUCE的开发库，可以使用Projucer或者Cmake来构建，Projucer由于有相对更加人性化的GUI界面所以更适合新人上手 \n",
    "\n",
    "[JUCE的Github页面](https://github.com/juce-framework/JUCE)  \n",
    "[JUCE的官网下载页面](https://juce.com/download/)  \n",
    "\n",
    "## 配置环境：\n",
    "\n",
    "在官网上下载Projucer，这是一个免安装的软件，解压到常用路径就可以了\n",
    "\n",
    "![Projucer的下载](Image\\DownloadProjucer.png)\n",
    "\n",
    "打开可执行文件会弹出一个创建新工程的窗口，这里可以创建多种JUCE工程，既有独立运行的应用，也有各种格式的插件\n",
    "\n",
    "![新建页面](Image\\NewProject.png)\n",
    "\n",
    "我们就以常用的VST3插件为例，不要忘记勾选juce_dsp的module，一会会用到\n",
    "\n",
    "![创建VST](Image\\CreateVST.png)\n",
    "\n",
    "值得一提的是，Projucer也有管理解决方案文件的功能，所以一切有关文件层级的修改建议在Projucer中进行，否则可能会导致修改被覆盖  \n",
    "\n",
    "例如这里我们可以在Projucer中添加额外的module，包括JUCE官方的module和用户自定义的module\n",
    "\n",
    "![修改文件](Image\\ModifyFile.png)\n",
    "\n",
    "点击File选项卡下点击“Save Project and Open in IDE”\n",
    "\n",
    "这样会自动唤起VS，可以看到解决方案资源管理器下已经有多个工程，分别是共享代码库，Standalone工程，VST3工程，以及VST3的清单文件\n",
    "\n",
    "![资源管理器](Image\\SolutionAndProject.png)\n",
    "\n",
    "按F5运行，默认JUCE的构建设置是Standalone，Standalone会构建并执行一个能够独立运行的exe，能够方便地查看UI界面（生成文件也能在构建设置中修改）\n",
    "\n",
    "但是由于这样并不能直观表现音频插件的DSP处理效果，所以我们还需要将插件插入别的程序中，\n",
    "\n",
    "![默认生成的界面](Image\\DefaultEditor.png)\n",
    "\n",
    "右键VST的工程并生成，会在Bulid中的对应位置生成VST插件\n",
    "\n",
    "![构建VST](Image\\BuildVST.png)\n",
    "\n",
    "JUCE的案例工程中自带一个轻量化的主机，可以识别并插入插件，也可以通过修改启动项来在我们的工程构建的过程中自动打开，\n",
    "\n",
    "![JUCE的主机工程案例](Image\\JUCEHost.png)\n",
    "\n",
    "直接挂载在宿主上也是可以的，这里用的是Bitwig。\n",
    "\n",
    "![]()\n",
    "\n",
    "可以看到现在空白的VST插件可以正常挂载\n",
    "\n",
    "Bitwig的优势是即使在我们开发过程中插件崩溃，也不会影响宿主运行；而其他宿主可能在会和插件一起崩溃（点名Reaper）\n",
    "\n",
    "## 代码部分：\n",
    "\n",
    "回到我们的SharedCode，这里有外部依赖，以及一些需要用到的Module，这些Module目前都是JUCE帮我们配置的，后面也能自定义一些自己的Module\n",
    "\n",
    "![]()\n",
    "\n",
    "主要的功能是在工程名下的Source文件夹下实现，这里已经有4个文件，分别是PluginEditor和PluginProcessor以及各自的.cpp和.h文件\n",
    "\n",
    "PluginEditor主要负责插件页面的设计以及UI交互功能，而PluginProcessor主要负责插件内部的逻辑，对于音频或者midi数据块的处理\n",
    "\n",
    "![]()\n",
    "\n",
    "当然想要创建更多脚本来管理也是可以的，别忘在Projucer中配置好\n",
    "\n",
    "PluginProcessor中的类默认继承了`juce::AudioProcessor`；PluginEditor中的类默认继承了`juce::AudioEditor`，\n",
    "所以这两个类都能override一些预先写好的方法\n",
    "\n",
    "今天我们主要编辑Processor中的内容，这是用来实现音频处理最核心的代码\n",
    "\n",
    "![]()\n",
    "\n",
    ".h和.cpp的分工比较明确，.h可以用来定义类和override一些方法，.cpp来实现方法\n",
    "\n",
    "预先默认已经override了许多方法，但其实这些方法并不复杂，基本上功能都写在名字上了\n",
    "\n",
    "这里的常用的方法如下"
   ]
  },
  {
   "cell_type": "code",
   "execution_count": null,
   "metadata": {
    "vscode": {
     "languageId": "cpp"
    }
   },
   "outputs": [],
   "source": [
    "//构造函数\n",
    "MyJUCELearningAudioProcessor();\n",
    "//解构函数\n",
    "~MyFilterAudioProcessor()；\n",
    "//在接受音频信息块前回调\n",
    "void prepareToPlay (double sampleRate, int samplesPerBlock)；\n",
    "//在释放资源时回调\n",
    "void releaseResources()；\n",
    "//处理音频最主要的函数，在接受音频数据块或midi信息时回调\n",
    "void processBlock (juce::AudioBuffer<float>&, juce::MidiBuffer&);\n",
    "//这个函数返回一个juce::AudioProcessorEditor类的指针，决定了绘制编辑器页面的类\n",
    "juce::AudioProcessorEditor* createEditor()；"
   ]
  },
  {
   "cell_type": "markdown",
   "metadata": {},
   "source": [
    "`AudioProcessorValueTreeState`（简称apvts）用于存储插件中的参数，可以看作插件输入参数的集合，有管理参数的存储、读取的作用\n",
    "\n",
    "为了初始化aptvs，需要四个参数，唯一一个比较麻烦的参数是参数布局（`ParameterLayout`）\n",
    "\n",
    "下面我们在`PluginProcessor.h`中创建了一个名为`createParameterLayout()`的静态方法,用于获取类为`juce::AudioProcessorValueTreeState::ParameterLayout`的对象，\n",
    "\n",
    "最后将所有的参数填充在这个`AudioProcessorValueTreeState`对象下就完成初始化了。"
   ]
  },
  {
   "cell_type": "code",
   "execution_count": null,
   "metadata": {
    "vscode": {
     "languageId": "cpp"
    }
   },
   "outputs": [],
   "source": [
    "//在.cpp文件中实现createParameterLayout()，返回值是ParameterLayout的对象\n",
    "static juce::AudioProcessorValueTreeState::ParameterLayout createParameterLayout();\n",
    "//初始化一个AudioProcessorValueTreeState对象\n",
    "juce::AudioProcessorValueTreeState apvts{\n",
    "\t*this,//这个APTVS使用的AudioProcessor\n",
    "\tnullptr,//设置undoManager\n",
    "\t\"Parameter\",//设置parameterID\n",
    "\tcreateParameterLayout() //设置parameterLayout\n",
    "};"
   ]
  },
  {
   "cell_type": "code",
   "execution_count": null,
   "metadata": {
    "vscode": {
     "languageId": "cpp"
    }
   },
   "outputs": [],
   "source": [
    "//在PluginProcessor.cpp中实现方法\n",
    "juce::AudioProcessorValueTreeState::ParameterLayout MyFilterAudioProcessor::createParameterLayout()\n",
    "{\n",
    "    //添加一个有一个参数\"LowCut Freq\"的Layout\n",
    "    juce::AudioProcessorValueTreeState::ParameterLayout layout;\n",
    "    layout.add(std::make_unique<juce::AudioParameterFloat>(\n",
    "        \"LowCut Freq\",//参数ID\n",
    "\t\t\"LowCut Freq\",//参数名称\n",
    "\t\tjuce::NormalisableRange<float>(20.f, 20000.f, 1.f, 1.f),//最小值，最大值，步长，斜率因子\n",
    "\t\t20.f));//默认值\n",
    "    //返回Layout\n",
    "    return layout;\n",
    "}"
   ]
  },
  {
   "cell_type": "markdown",
   "metadata": {},
   "source": [
    "现在已经有了控制插件的参数，此外还必须要有`juce::dsp::ProcessorChain`对象添加一些效果处理\n",
    "\n",
    "值得一提的是`juce::dsp::ProcessorChain`对象是可以嵌套的，也就是说一条链中也可以加入其他含有效果的链，而这里只简单地添加了一个`juce::dsp::IIR::Filter<float>`\n",
    "\n",
    "另外，由于我们往往需要对左右两个声道同时处理，所以需要实例化两个ProcessorChain，让`LeftChain` 和`RightChain`同时做处理"
   ]
  },
  {
   "cell_type": "code",
   "execution_count": null,
   "metadata": {
    "vscode": {
     "languageId": "cpp"
    }
   },
   "outputs": [],
   "source": [
    "//定义两个ProcessorChain对象，包含一个IIR::Filter<float>对象\n",
    "juce::dsp::ProcessorChain<juce::dsp::IIR::Filter<float>> LeftChain;\n",
    "juce::dsp::ProcessorChain<juce::dsp::IIR::Filter<float>> RightChain;"
   ]
  },
  {
   "cell_type": "markdown",
   "metadata": {},
   "source": [
    "我们跳转到PluginProcessor.cpp中，是时候直接处理音频了，不过在此之前还有一件事，将`createEditor()`中的返回值更改为`juce::GenericAudioProcessorEditor(*this)`\n",
    "\n",
    "原来默认的返回值`MyFilterAudioProcessorEditor (*this)`是在PluginEditor中编辑的界面，也就是一开始我们看到的空白页面\n",
    "\n",
    "而`GenericAudioProcessorEditor(*this)`会直接将apvts中的参数分配到界面上，这样就可以省去创建Slider的步骤了\n",
    "\n",
    "当然如果想要一个更加精致的UI页面，也可以自己编辑Editor，JUCE官方也有完整的GUI教程"
   ]
  },
  {
   "cell_type": "code",
   "execution_count": null,
   "metadata": {
    "vscode": {
     "languageId": "cpp"
    }
   },
   "outputs": [],
   "source": [
    "juce::AudioProcessorEditor* MyFilterAudioProcessor::createEditor()\n",
    "{\n",
    "    //return new MyFilterAudioProcessorEditor (*this);\n",
    "    return new juce::GenericAudioProcessorEditor(*this);\n",
    "}"
   ]
  },
  {
   "cell_type": "markdown",
   "metadata": {},
   "source": [
    "来到`processBlock`方法下，这里是音频处理的核心方法，在创建工程时已经有了几句代码，解释如下："
   ]
  },
  {
   "cell_type": "code",
   "execution_count": null,
   "metadata": {
    "vscode": {
     "languageId": "cpp"
    }
   },
   "outputs": [],
   "source": [
    "//禁用浮点数的非规格化处理，提高处理效率\n",
    "juce::ScopedNoDenormals noDenormals;\n",
    "//获取当前输入输出的通道数\n",
    "auto totalNumInputChannels  = getTotalNumInputChannels();\n",
    "auto totalNumOutputChannels = getTotalNumOutputChannels();\n",
    "//清除多余的输出通道，防止啸叫\n",
    "for (auto i = totalNumInputChannels; i < totalNumOutputChannels; ++i)\n",
    "    buffer.clear (i, 0, buffer.getNumSamples());\n",
    "//循环获取每个通道的音频数据块，并作处理\n",
    "for (int channel = 0; channel < totalNumInputChannels; ++channel)\n",
    "{\n",
    "    auto* channelData = buffer.getWritePointer (channel);\n",
    "    //这里可以处理每次循环中获取的数据块，在这里可以写相关处理函数\n",
    "}"
   ]
  },
  {
   "cell_type": "markdown",
   "metadata": {},
   "source": [
    "虽然在以上代码中已经提供了可以处理的数据块，但是由于我们实现的是一个Filter，我们小学二年级学过的DSP告诉我们，IIR滤波器的结果和过去的输入输出有关"
   ]
  }
 ],
 "metadata": {
  "language_info": {
   "name": "python"
  }
 },
 "nbformat": 4,
 "nbformat_minor": 2
}
